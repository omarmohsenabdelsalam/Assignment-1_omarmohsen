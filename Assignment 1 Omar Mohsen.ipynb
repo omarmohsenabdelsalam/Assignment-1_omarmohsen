{
 "cells": [
  {
   "cell_type": "markdown",
   "id": "169b4d9e",
   "metadata": {},
   "source": [
    "# Task 1 in Session 2"
   ]
  },
  {
   "cell_type": "code",
   "execution_count": 44,
   "id": "0ebb469d",
   "metadata": {},
   "outputs": [
    {
     "name": "stdout",
     "output_type": "stream",
     "text": [
      " Please enter Value Gravitational Constant in Nm2/kg2: 6.67e-11\n",
      " Please enter Value of the first mass in kg: 6e24\n",
      " Please enter Value of the second mass in kg: 7.34e22\n",
      " Please enter distance between the two masses in km: 3.84e8\n",
      "The gravitational force (FG) is 1.99e+20 N between the two masses\n"
     ]
    }
   ],
   "source": [
    "G = float (input (\" Please enter Value Gravitational Constant in Nm2/kg2: \"))\n",
    "m1 = float (input (\" Please enter Value of the first mass in kg: \"))\n",
    "m2 = float (input (\" Please enter Value of the second mass in kg: \"))\n",
    "r =  float (input (\" Please enter distance between the two masses in km: \"))\n",
    "FG = (G*m1*m2)/(r**2)\n",
    "FGr = round (FG, -18)\n",
    "if FGr == 0: #because when numbers are too small it rounds up to zero due to roundfunction\n",
    "    print (\"The gravitational force (FG) is\", FG, \"N between the two masses\")\n",
    "else:\n",
    "    print (\"The gravitational force (FG) is\", FGr, \"N between the two masses\")"
   ]
  },
  {
   "cell_type": "markdown",
   "id": "9f75ed34",
   "metadata": {},
   "source": [
    "\n",
    "# Task 2 in Session 3\n",
    "\n"
   ]
  },
  {
   "cell_type": "code",
   "execution_count": 24,
   "id": "0e9bc124",
   "metadata": {},
   "outputs": [
    {
     "name": "stdout",
     "output_type": "stream",
     "text": [
      "1\n",
      "2\n",
      "Fizz\n",
      "4\n",
      "FizzBuss\n",
      "Fizz\n",
      "7\n",
      "8\n",
      "Fizz\n",
      "FizzBuss\n",
      "11\n",
      "Fizz\n",
      "13\n",
      "14\n",
      "Fizz\n",
      "16\n",
      "17\n",
      "Fizz\n",
      "19\n",
      "FizzBuss\n",
      "Fizz\n",
      "22\n",
      "23\n",
      "Fizz\n",
      "FizzBuss\n",
      "26\n",
      "Fizz\n",
      "28\n",
      "29\n",
      "Fizz\n",
      "31\n",
      "32\n",
      "Fizz\n",
      "34\n",
      "FizzBuss\n",
      "Fizz\n",
      "37\n",
      "38\n",
      "Fizz\n",
      "FizzBuss\n",
      "41\n",
      "Fizz\n",
      "43\n",
      "44\n",
      "Fizz\n",
      "46\n",
      "47\n",
      "Fizz\n",
      "49\n",
      "FizzBuss\n",
      "Fizz\n",
      "52\n",
      "53\n",
      "Fizz\n",
      "FizzBuss\n",
      "56\n",
      "Fizz\n",
      "58\n",
      "59\n",
      "Fizz\n",
      "61\n",
      "62\n",
      "Fizz\n",
      "64\n",
      "FizzBuss\n",
      "Fizz\n",
      "67\n",
      "68\n",
      "Fizz\n",
      "FizzBuss\n",
      "71\n",
      "Fizz\n",
      "73\n",
      "74\n",
      "Fizz\n",
      "76\n",
      "77\n",
      "Fizz\n",
      "79\n",
      "FizzBuss\n",
      "Fizz\n",
      "82\n",
      "83\n",
      "Fizz\n",
      "FizzBuss\n",
      "86\n",
      "Fizz\n",
      "88\n",
      "89\n",
      "Fizz\n",
      "91\n",
      "92\n",
      "Fizz\n",
      "94\n",
      "FizzBuss\n",
      "Fizz\n",
      "97\n",
      "98\n",
      "Fizz\n",
      "FizzBuss\n"
     ]
    }
   ],
   "source": [
    "i = 1\n",
    "while i <= 100:\n",
    "    if i%3 and i%5 == 0:\n",
    "        print (\"FizzBuss\")\n",
    "    elif i%3 == 0:\n",
    "        print (\"Fizz\")\n",
    "    elif i%5 == 0:\n",
    "        print (\"Buzz\")\n",
    "    else:\n",
    "        print (i)\n",
    "    i = i+1"
   ]
  },
  {
   "cell_type": "code",
   "execution_count": null,
   "id": "f0a21a7c",
   "metadata": {},
   "outputs": [],
   "source": []
  }
 ],
 "metadata": {
  "kernelspec": {
   "display_name": "Python 3 (ipykernel)",
   "language": "python",
   "name": "python3"
  },
  "language_info": {
   "codemirror_mode": {
    "name": "ipython",
    "version": 3
   },
   "file_extension": ".py",
   "mimetype": "text/x-python",
   "name": "python",
   "nbconvert_exporter": "python",
   "pygments_lexer": "ipython3",
   "version": "3.10.9"
  }
 },
 "nbformat": 4,
 "nbformat_minor": 5
}
